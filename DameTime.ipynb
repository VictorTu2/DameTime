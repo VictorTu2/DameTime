{
 "cells": [
  {
   "cell_type": "code",
   "execution_count": 99,
   "id": "b9018869",
   "metadata": {},
   "outputs": [],
   "source": [
    "import pandas as pd\n",
    "import os\n",
    "import glob\n",
    "import datetime\n",
    "import matplotlib.pyplot as plt"
   ]
  },
  {
   "cell_type": "markdown",
   "id": "981d867d",
   "metadata": {},
   "source": [
    "## combining all pbp csv files "
   ]
  },
  {
   "cell_type": "raw",
   "id": "5e800ae5",
   "metadata": {},
   "source": [
    "# os.chdir(\"/Users/victortu/Desktop/Python Projects/DameTime/PBP csv files (newest)\")\n",
    "\n",
    "extension = 'csv'\n",
    "all_filenames = [i for i in glob.glob('*.{}'.format(extension))]\n",
    "\n",
    "#combine all files in the list\n",
    "combined_csv = pd.concat([pd.read_csv(f) for f in all_filenames ])\n",
    "#export to csv\n",
    "combined_csv.to_csv(\"combined_pbp_csv.csv\", index=False, encoding='utf-8-sig')"
   ]
  },
  {
   "cell_type": "markdown",
   "id": "4999a601",
   "metadata": {},
   "source": [
    "## reading combined csv files"
   ]
  },
  {
   "cell_type": "code",
   "execution_count": null,
   "id": "2fd5da08",
   "metadata": {},
   "outputs": [],
   "source": [
    "df = pd.read_csv(\"/Users/victortu/Desktop/Python Projects/Dame/Generated csv files/combined_pbp_csv.csv\")\n",
    "df.head()"
   ]
  },
  {
   "cell_type": "markdown",
   "id": "c664b06c",
   "metadata": {},
   "source": [
    "## filtering original csv for necessary data "
   ]
  },
  {
   "cell_type": "code",
   "execution_count": 71,
   "id": "712c6d52",
   "metadata": {},
   "outputs": [],
   "source": [
    "#filter POR away/home \n",
    "filtloc = df.loc[(df[\"AwayTeam\"] == \"POR\") | (df[\"HomeTeam\"] == \"POR\")]\n",
    "\n",
    "#filter for the rest of the conditions \n",
    "filtcond = filtloc.loc[(df[\"Quarter\"] == 4) & (df[\"SecLeft\"] <= 120) & (df[\"Shooter\"] == \"D. Lillard - lillada01\")]\n",
    "\n",
    "#filter for necessary columns\n",
    "damestats = filtcond[[\"Date\",\"AwayPlay\", \"HomePlay\", \"SecLeft\",\"Shooter\",\"ShotOutcome\",\"ShotType\"]]\n",
    "\n",
    "#combining AwayPlay and HomePlay columns\n",
    "damestats.columns = damestats.columns.str.replace('.*?Play', 'Play', regex = True)\n",
    "\n",
    "#stack\n",
    "s = damestats.stack() \n",
    "s\n",
    "    \n",
    "#unstack\n",
    "damestats = s.unstack()\n",
    "\n",
    "#converting date column to a datetime format  \n",
    "damestats['Date'] = pd.to_datetime(df['Date'])"
   ]
  },
  {
   "cell_type": "markdown",
   "id": "14b40615",
   "metadata": {},
   "source": [
    "## filtering damestats for specific seasons"
   ]
  },
  {
   "cell_type": "code",
   "execution_count": null,
   "id": "4e34f6a2",
   "metadata": {},
   "outputs": [],
   "source": [
    "#filtering for 2015-2016 season \n",
    "start_date = \"10-27-2015\"\n",
    "end_date = \"06-19-2016\"\n",
    "\n",
    "mask = (damestats[\"Date\"] > start_date) & (damestats[\"Date\"] <= end_date)\n",
    "\n",
    "damestats16 = damestats.loc[mask]"
   ]
  },
  {
   "cell_type": "markdown",
   "id": "cd5f051e",
   "metadata": {},
   "source": [
    "#export damestats16 to csv \n",
    "damestats16.to_csv(r'/Users/victortu/Desktop/Python Projects/DameTime/Generated csv files/damestats16.csv')"
   ]
  },
  {
   "cell_type": "code",
   "execution_count": 82,
   "id": "3da4294e",
   "metadata": {},
   "outputs": [],
   "source": [
    "#filtering for 2016-2017 season\n",
    "start_date = \"10-25-2016\"\n",
    "end_date = \"06-18-2017\"\n",
    "\n",
    "mask = (damestats[\"Date\"] > start_date) & (damestats[\"Date\"] <= end_date)\n",
    "\n",
    "damestats17 = damestats.loc[mask]"
   ]
  },
  {
   "cell_type": "markdown",
   "id": "5045c72a",
   "metadata": {},
   "source": [
    "#export damestats17 to csv \n",
    "damestats17.to_csv(r'/Users/victortu/Desktop/Python Projects/DameTime/Generated csv files/damestats17.csv')"
   ]
  },
  {
   "cell_type": "code",
   "execution_count": 85,
   "id": "082054ee",
   "metadata": {},
   "outputs": [],
   "source": [
    "#filtering for 2017-2018 season\n",
    "start_date = \"10-17-2017\"\n",
    "end_date = \"06-17-2018\"\n",
    "\n",
    "mask = (damestats[\"Date\"] > start_date) & (damestats[\"Date\"] <= end_date)\n",
    "\n",
    "damestats18 = damestats.loc[mask]"
   ]
  },
  {
   "cell_type": "markdown",
   "id": "32a6d969",
   "metadata": {},
   "source": [
    "#export damestats18 to csv \n",
    "damestats18.to_csv(r'/Users/victortu/Desktop/Python Projects/DameTime/Generated csv files/damestats18.csv')"
   ]
  },
  {
   "cell_type": "code",
   "execution_count": 88,
   "id": "928ee56a",
   "metadata": {},
   "outputs": [],
   "source": [
    "#filtering for 2018-2019 season\n",
    "start_date = \"10-16-2018\"\n",
    "end_date = \"06-10-2019\"\n",
    "\n",
    "mask = (damestats[\"Date\"] > start_date) & (damestats[\"Date\"] <= end_date)\n",
    "\n",
    "damestats19 = damestats.loc[mask]"
   ]
  },
  {
   "cell_type": "markdown",
   "id": "012edff9",
   "metadata": {},
   "source": [
    "#export damestats19 to csv \n",
    "damestats19.to_csv(r'/Users/victortu/Desktop/Python Projects/DameTime/Generated csv files/damestats19.csv')"
   ]
  },
  {
   "cell_type": "code",
   "execution_count": 91,
   "id": "6a008f56",
   "metadata": {},
   "outputs": [],
   "source": [
    "#filtering for 2019-2020 season\n",
    "start_date = \"10-22-2019\"\n",
    "end_date = \"10-11-2020\"\n",
    "\n",
    "mask = (damestats[\"Date\"] > start_date) & (damestats[\"Date\"] <= end_date)\n",
    "\n",
    "damestats20 = damestats.loc[mask]"
   ]
  },
  {
   "cell_type": "markdown",
   "id": "1b351a68",
   "metadata": {},
   "source": [
    "#export damestats20 to csv \n",
    "damestats20.to_csv(r'/Users/victortu/Desktop/Python Projects/DameTime/Generated csv files/damestats20.csv')"
   ]
  },
  {
   "cell_type": "code",
   "execution_count": 120,
   "id": "0ccbe47b",
   "metadata": {},
   "outputs": [],
   "source": [
    "#filtering for 2020-2021 season\n",
    "start_date = \"12-22-2020\"\n",
    "end_date = \"07-20-2021\"\n",
    "\n",
    "mask = (damestats[\"Date\"] > start_date) & (damestats[\"Date\"] <= end_date)\n",
    "\n",
    "damestats21 = damestats.loc[mask]"
   ]
  },
  {
   "cell_type": "markdown",
   "id": "00a1e220",
   "metadata": {},
   "source": [
    "#export damestats21 to csv \n",
    "damestats21.to_csv(r'/Users/victortu/Desktop/Python Projects/DameTime/Generated csv files/damestats21.csv')"
   ]
  },
  {
   "cell_type": "markdown",
   "id": "746b2015",
   "metadata": {},
   "source": [
    "## functions for analysis"
   ]
  },
  {
   "cell_type": "code",
   "execution_count": 111,
   "id": "44245ed6",
   "metadata": {},
   "outputs": [],
   "source": [
    "#function for calculating 3-pt shot percentage \n",
    "def threeptcalc(df):\n",
    "    \n",
    "    #filters damestats to show only 3-point attempts\n",
    "    dt3 = df[df.Play.str.contains(\"3-pt\")]\n",
    "    \n",
    "    #number of 3-pointers attempted\n",
    "    shotattempts3 = len(dt3.index)\n",
    "    \n",
    "    #filters dt3 to show only made attempts\n",
    "    dt3made = dt3[dt3.ShotOutcome.str.contains(\"make\")]\n",
    "    \n",
    "    #number of 3-pointers made\n",
    "    madeshots3 = len(dt3made.index)\n",
    "    \n",
    "    #3-point shot make percentage \n",
    "    shotper3 = madeshots3 / shotattempts3 * 100\n",
    "    \n",
    "    #limits the percent to 2 decimal places \n",
    "    rshotper3 = round(shotper3, 2)\n",
    "    \n",
    "    return(rshotper3)"
   ]
  },
  {
   "cell_type": "code",
   "execution_count": 112,
   "id": "31464370",
   "metadata": {},
   "outputs": [],
   "source": [
    "#function for calculating 2-pt shot percentage\n",
    "def twoptcalc(df):\n",
    "    \n",
    "    #filters damestats to show only 2-point attempts\n",
    "    dt2 = df[df.Play.str.contains(\"2-pt\")]\n",
    "    \n",
    "    #number of 2-pointers attempted\n",
    "    shotattempts2 = len(dt2.index)\n",
    "    \n",
    "    #filters dt2 to show only made attempts\n",
    "    dt2made = dt2[dt2.ShotOutcome.str.contains(\"make\")]\n",
    "    \n",
    "    #number of 2-pointers made\n",
    "    madeshots2 = len(dt2made.index)\n",
    "    \n",
    "    #2-point shot make percentage\n",
    "    shotper2 = madeshots2 / shotattempts2 * 100\n",
    "    \n",
    "    #limits the percent to 2 decimal places \n",
    "    rshotper2 = round(shotper2, 2)\n",
    "    \n",
    "    return(rshotper2)"
   ]
  },
  {
   "cell_type": "markdown",
   "id": "92d0a425",
   "metadata": {},
   "source": [
    "## line charts"
   ]
  },
  {
   "cell_type": "code",
   "execution_count": 122,
   "id": "5368307a",
   "metadata": {},
   "outputs": [
    {
     "data": {
      "image/png": "[encoded data removed]",
      "text/plain": [
       "<Figure size 432x288 with 1 Axes>"
      ]
     },
     "metadata": {
      "needs_background": "light"
     },
     "output_type": "display_data"
    }
   ],
   "source": [
    "#creating line chart for 3-pt\n",
    "season = [2016,2017,2018,2019,2020,2021]\n",
    "threept_percentage = [threeptcalc(damestats16),threeptcalc(damestats17),threeptcalc(damestats18),threeptcalc(damestats19),threeptcalc(damestats20),threeptcalc(damestats21)]\n",
    "\n",
    "plt.plot(season, threept_percentage)\n",
    "plt.title('DameTime')\n",
    "plt.xlabel('Season (end)')\n",
    "plt.ylabel('3-Point Percentage')\n",
    "plt.show()"
   ]
  },
  {
   "cell_type": "code",
   "execution_count": 123,
   "id": "ed3bf035",
   "metadata": {},
   "outputs": [
    {
     "data": {
      "image/png": "[encoded data removed]",
      "text/plain": [
       "<Figure size 432x288 with 1 Axes>"
      ]
     },
     "metadata": {
      "needs_background": "light"
     },
     "output_type": "display_data"
    }
   ],
   "source": [
    "#creating line chart for 2-pt\n",
    "season = [2016,2017,2018,2019,2020,2021]\n",
    "threept_percentage = [twoptcalc(damestats16),twoptcalc(damestats17),twoptcalc(damestats18),twoptcalc(damestats19),twoptcalc(damestats20),twoptcalc(damestats21)]\n",
    "\n",
    "plt.plot(season, threept_percentage)\n",
    "plt.title('DameTime')\n",
    "plt.xlabel('Season (end)')\n",
    "plt.ylabel('2-Point Percentage')\n",
    "plt.show()"
   ]
  }
 ],
 "metadata": {
  "kernelspec": {
   "display_name": "Python 3",
   "language": "python",
   "name": "python3"
  },
  "language_info": {
   "codemirror_mode": {
    "name": "ipython",
    "version": 3
   },
   "file_extension": ".py",
   "mimetype": "text/x-python",
   "name": "python",
   "nbconvert_exporter": "python",
   "pygments_lexer": "ipython3",
   "version": "3.8.8"
  }
 },
 "nbformat": 4,
 "nbformat_minor": 5
}
